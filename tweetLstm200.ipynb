{
 "cells": [
  {
   "cell_type": "code",
   "execution_count": 1,
   "metadata": {},
   "outputs": [
    {
     "name": "stderr",
     "output_type": "stream",
     "text": [
      "Using TensorFlow backend.\n"
     ]
    }
   ],
   "source": [
    "import pandas as pd\n",
    "import numpy as np\n",
    "import re\n",
    "\n",
    "from keras.layers import Embedding, Dense, LSTM, Dense, Input, concatenate\n",
    "from keras.models import Model\n",
    "from keras.utils import plot_model\n",
    "\n",
    "from keras.preprocessing.text import Tokenizer\n",
    "from keras.preprocessing.sequence import pad_sequences"
   ]
  },
  {
   "cell_type": "code",
   "execution_count": 2,
   "metadata": {},
   "outputs": [],
   "source": [
    "df = pd.read_csv('new_labeled_tweets1.csv')"
   ]
  },
  {
   "cell_type": "code",
   "execution_count": 3,
   "metadata": {},
   "outputs": [],
   "source": [
    "df = df.dropna(subset=['text'])\n",
    "splits = df['text'].str.split(' ')\n",
    "to_remove = splits.apply(lambda x: len(x)).sort_values(ascending=False)[:10].index\n",
    "df = df.drop(to_remove).reset_index(drop=True)"
   ]
  },
  {
   "cell_type": "code",
   "execution_count": 4,
   "metadata": {},
   "outputs": [],
   "source": [
    "df['text'] = df['text'].str.replace('<quoted_status>', '<quoted_status> ')\n",
    "df['text'] = df['text'].str.replace('<hashtag>', '<hashtag> ')\n",
    "df['text'] = df['text'].apply(lambda x: re.sub( '\\s+', ' ', x ).strip())"
   ]
  },
  {
   "cell_type": "code",
   "execution_count": 5,
   "metadata": {},
   "outputs": [],
   "source": [
    "df_clean_split = df['text'].str.split(' ', expand=True)\n",
    "words = df_clean_split.stack().unique()\n",
    "max_sequence = df_clean_split.shape[1]"
   ]
  },
  {
   "cell_type": "code",
   "execution_count": 6,
   "metadata": {},
   "outputs": [],
   "source": [
    "tockenizer = Tokenizer(words.shape[0]) \n",
    "tockenizer.fit_on_texts(df['text'])\n",
    "sequences = tockenizer.texts_to_sequences(df['text'])"
   ]
  },
  {
   "cell_type": "code",
   "execution_count": 7,
   "metadata": {},
   "outputs": [],
   "source": [
    "word_index = tockenizer.word_index\n",
    "data = pad_sequences(sequences, maxlen=max_sequence)"
   ]
  },
  {
   "cell_type": "code",
   "execution_count": 8,
   "metadata": {},
   "outputs": [
    {
     "name": "stdout",
     "output_type": "stream",
     "text": [
      "Found 1193514 word vectors.\n"
     ]
    }
   ],
   "source": [
    "embeddings_index = {}\n",
    "f = open('glove.twitter.27B.200d.txt', encoding=\"utf8\")\n",
    "\n",
    "for line in f:\n",
    "    values = line.split()\n",
    "    word = values[0]\n",
    "    coefs = np.asarray(values[1:], dtype='float32')\n",
    "    embeddings_index[word] = coefs\n",
    "    \n",
    "f.close()\n",
    "\n",
    "print('Found %s word vectors.' % len(embeddings_index))"
   ]
  },
  {
   "cell_type": "code",
   "execution_count": 10,
   "metadata": {},
   "outputs": [],
   "source": [
    "embedding_matrix = np.zeros((len(word_index) + 1, 200))\n",
    "\n",
    "for word, i in word_index.items():\n",
    "    embedding_vector = embeddings_index.get(word)\n",
    "    if embedding_vector is not None:\n",
    "        # words not found in embedding index will be all-zeros.\n",
    "        embedding_matrix[i] = embedding_vector"
   ]
  },
  {
   "cell_type": "code",
   "execution_count": 23,
   "metadata": {},
   "outputs": [],
   "source": [
    "X_text_train = data[:5000000,:]\n",
    "X_text_test = data[5000000:,:]\n",
    "X_train = np.array(X_text_train )\n",
    "X_test = np.array(X_text_test)"
   ]
  },
  {
   "cell_type": "code",
   "execution_count": 24,
   "metadata": {},
   "outputs": [],
   "source": [
    "number_data = df[['retweet_count', 'favorite_count', 'reply_count', 'hashtag_count', 'mention_count', 'url_count']].values\n",
    "\n",
    "X_number_train = number_data[:5000000,:]\n",
    "X_number_test = number_data[5000000:,:]"
   ]
  },
  {
   "cell_type": "code",
   "execution_count": 25,
   "metadata": {},
   "outputs": [],
   "source": [
    "y_vals = df['BotOrNot'].values\n",
    "\n",
    "y_train = y_vals[:5000000].reshape(-1,1)\n",
    "y_test = y_vals[5000000:].reshape(-1,1)\n",
    "\n",
    "y_train1= np.array(y_train)\n",
    "y_test1= np.array(y_test)"
   ]
  },
  {
   "cell_type": "code",
   "execution_count": 26,
   "metadata": {},
   "outputs": [],
   "source": [
    "embedding_layer = Embedding(len(word_index) + 1,\n",
    "                            200,\n",
    "                            weights=[embedding_matrix],\n",
    "                            input_length=max_sequence,\n",
    "                            trainable=True)"
   ]
  },
  {
   "cell_type": "code",
   "execution_count": 27,
   "metadata": {},
   "outputs": [],
   "source": [
    "main_input = Input(shape=(max_sequence,), dtype='int32', name='main_input')\n",
    "embedded_sequences = embedding_layer(main_input)\n",
    "\n",
    "lstm_out = LSTM(32)(embedded_sequences)\n",
    "\n",
    "auxiliary_output = Dense(1, activation='sigmoid', name='aux_output')(lstm_out)\n",
    "\n",
    "auxiliary_input = Input(shape=(6,), name='aux_input')\n",
    "\n",
    "x = concatenate([lstm_out, auxiliary_input])\n",
    "\n",
    "x = Dense(128, activation='relu')(x)\n",
    "x = Dense(64, activation='relu')(x)\n",
    "\n",
    "main_output = Dense(1, activation='sigmoid', name='main_output')(x)"
   ]
  },
  {
   "cell_type": "code",
   "execution_count": 28,
   "metadata": {},
   "outputs": [],
   "source": [
    "model = Model(inputs=[main_input, auxiliary_input], outputs=[main_output, auxiliary_output])"
   ]
  },
  {
   "cell_type": "code",
   "execution_count": 29,
   "metadata": {},
   "outputs": [],
   "source": [
    "model.compile(optimizer='adam',\n",
    "              loss={'main_output': 'binary_crossentropy', 'aux_output': 'binary_crossentropy'},\n",
    "              loss_weights={'main_output': 1., 'aux_output': 0.2},\n",
    "              metrics=['accuracy'])"
   ]
  },
  {
   "cell_type": "code",
   "execution_count": null,
   "metadata": {
    "scrolled": true
   },
   "outputs": [
    {
     "name": "stdout",
     "output_type": "stream",
     "text": [
      "WARNING:tensorflow:From C:\\Users\\STUDENT\\Anaconda3\\lib\\site-packages\\tensorflow\\python\\ops\\math_ops.py:3066: to_int32 (from tensorflow.python.ops.math_ops) is deprecated and will be removed in a future version.\n",
      "Instructions for updating:\n",
      "Use tf.cast instead.\n",
      "Train on 1100000 samples, validate on 399508 samples\n",
      "Epoch 1/20\n",
      "1100000/1100000 [==============================] - 4215s 4ms/step - loss: 0.5264 - main_output_loss: 0.4440 - aux_output_loss: 0.4122 - main_output_acc: 0.8308 - aux_output_acc: 0.8212 - val_loss: 0.3303 - val_main_output_loss: 0.2754 - val_aux_output_loss: 0.2749 - val_main_output_acc: 0.8987 - val_aux_output_acc: 0.8916\n",
      "Epoch 2/20\n",
      "1100000/1100000 [==============================] - 5581s 5ms/step - loss: 0.3001 - main_output_loss: 0.2501 - aux_output_loss: 0.2499 - main_output_acc: 0.9103 - aux_output_acc: 0.8979 - val_loss: 0.2943 - val_main_output_loss: 0.2482 - val_aux_output_loss: 0.2303 - val_main_output_acc: 0.9215 - val_aux_output_acc: 0.9010 - loss: 0.3119 - main_output_loss: 0.2576 - aux_output_loss: - ETA: 41:32 - loss: 0.2964 - main_output_loss: 0.2445 - aux_output_loss: 0.25\n",
      "Epoch 3/20\n",
      "1100000/1100000 [==============================] - 4906s 4ms/step - loss: 0.2624 - main_output_loss: 0.2182 - aux_output_loss: 0.2210 - main_output_acc: 0.9275 - aux_output_acc: 0.9078 - val_loss: 0.2451 - val_main_output_loss: 0.2029 - val_aux_output_loss: 0.2111 - val_main_output_acc: 0.9340 - val_aux_output_acc: 0.9159 - loss: 0.2876 - main_output_loss: 0.2417 - aux_output_loss: 0.2292 - ma - ETA: 42:27 - loss: 0.2691 - main_output_loss: 0.2239 - aux_outpu\n",
      "Epoch 4/20\n",
      "1100000/1100000 [==============================] - 5356s 5ms/step - loss: 0.2372 - main_output_loss: 0.1961 - aux_output_loss: 0.2055 - main_output_acc: 0.9357 - aux_output_acc: 0.9186 - val_loss: 0.2624 - val_main_output_loss: 0.2228 - val_aux_output_loss: 0.1981 - val_main_output_acc: 0.9374 - val_aux_output_acc: 0.9244\n",
      "Epoch 5/20\n",
      "1100000/1100000 [==============================] - 5751s 5ms/step - loss: 0.2348 - main_output_loss: 0.1958 - aux_output_loss: 0.1950 - main_output_acc: 0.9398 - aux_output_acc: 0.9257 - val_loss: 0.2175 - val_main_output_loss: 0.1791 - val_aux_output_loss: 0.1923 - val_main_output_acc: 0.9422 - val_aux_output_acc: 0.9229ss: 0.2008 - aux_output_loss: 0.1957 - main_output_acc: 0.9393 - aux_out\n",
      "Epoch 6/20\n",
      "1100000/1100000 [==============================] - 6120s 6ms/step - loss: 0.2420 - main_output_loss: 0.2044 - aux_output_loss: 0.1878 - main_output_acc: 0.9420 - aux_output_acc: 0.9299 - val_loss: 0.2407 - val_main_output_loss: 0.2041 - val_aux_output_loss: 0.1832 - val_main_output_acc: 0.9434 - val_aux_output_acc: 0.9325\n",
      "Epoch 7/20\n",
      "1100000/1100000 [==============================] - 5726s 5ms/step - loss: 0.2210 - main_output_loss: 0.1848 - aux_output_loss: 0.1811 - main_output_acc: 0.9451 - aux_output_acc: 0.9328 - val_loss: 0.2047 - val_main_output_loss: 0.1691 - val_aux_output_loss: 0.1781 - val_main_output_acc: 0.9461 - val_aux_output_acc: 0.9350 loss: 0.2322 - main_output_loss: 0.1958 -\n",
      "Epoch 8/20\n",
      "1100000/1100000 [==============================] - 7977s 7ms/step - loss: 0.2023 - main_output_loss: 0.1669 - aux_output_loss: 0.1768 - main_output_acc: 0.9472 - aux_output_acc: 0.9351 - val_loss: 0.2093 - val_main_output_loss: 0.1743 - val_aux_output_loss: 0.1751 - val_main_output_acc: 0.9467 - val_aux_output_acc: 0.9349\n",
      "Epoch 9/20\n",
      "1100000/1100000 [==============================] - 8170s 7ms/step - loss: 0.1977 - main_output_loss: 0.1634 - aux_output_loss: 0.1715 - main_output_acc: 0.9492 - aux_output_acc: 0.9379 - val_loss: 0.1994 - val_main_output_loss: 0.1655 - val_aux_output_loss: 0.1698 - val_main_output_acc: 0.9478 - val_aux_output_acc: 0.93713 - main_outpu\n",
      "Epoch 10/20\n",
      "1100000/1100000 [==============================] - 11254s 10ms/step - loss: 0.1902 - main_output_loss: 0.1568 - aux_output_loss: 0.1672 - main_output_acc: 0.9503 - aux_output_acc: 0.9392 - val_loss: 0.1922 - val_main_output_loss: 0.1589 - val_aux_output_loss: 0.1664 - val_main_output_acc: 0.9500 - val_aux_output_acc: 0.9408\n",
      "Epoch 11/20\n",
      "1100000/1100000 [==============================] - 11387s 10ms/step - loss: 0.1842 - main_output_loss: 0.1515 - aux_output_loss: 0.1636 - main_output_acc: 0.9515 - aux_output_acc: 0.9405 - val_loss: 0.1866 - val_main_output_loss: 0.1540 - val_aux_output_loss: 0.1627 - val_main_output_acc: 0.9507 - val_aux_output_acc: 0.94078 - main_output_loss: 0.1520 - aux_output - ETA: 42:36 - loss: 0.1849 - main_output_loss: 0.1521 - aux_output_loss: 0.1638 - main_output_acc: 0.9514 - aux_output_acc: 0. - ETA: 37:00 - loss: 0.1847 - main_output_loss: 0.1519 - aux_output_loss: 0.1637 - main_output_acc: 0.9515 - aux_output_acc: 0. - ETA: 31:18 - loss: 0.1845 - main_output_loss: 0.1517 - aux_output_loss: 0.1637 - main_output_acc: 0.9514 - a\n",
      "Epoch 12/20\n",
      "1100000/1100000 [==============================] - 12346s 11ms/step - loss: 0.1997 - main_output_loss: 0.1673 - aux_output_loss: 0.1621 - main_output_acc: 0.9503 - aux_output_acc: 0.9412 - val_loss: 0.2299 - val_main_output_loss: 0.1976 - val_aux_output_loss: 0.1615 - val_main_output_acc: 0.9487 - val_aux_output_acc: 0.9412\n",
      "Epoch 13/20\n",
      " 540672/1100000 [=============>................] - ETA: 1:34:43 - loss: 0.2081 - main_output_loss: 0.1763 - aux_output_loss: 0.1594 - main_output_acc: 0.9510 - aux_output_acc: 0.9423"
     ]
    }
   ],
   "source": [
    "model.fit({'main_input': X_text_train, 'aux_input': X_number_train},\n",
    "          {'main_output': y_train, 'aux_output': y_train},\n",
    "          validation_data=[{'main_input': X_text_test, 'aux_input': X_number_test}, {'main_output': y_test, 'aux_output': y_test}],\n",
    "          epochs=20, \n",
    "          batch_size=16384)"
   ]
  },
  {
   "cell_type": "code",
   "execution_count": null,
   "metadata": {},
   "outputs": [],
   "source": [
    "#train_X.reshape(train_X.shape[1:])\n",
    "from sklearn.metrics import classification_report\n",
    "predicted_classes = model.predict(X_train)\n",
    "#predicted_classes.shape , y_test.shape, y_train.shape\n",
    "#from sklearn.preprocessing import MinMaxScaler\n",
    "target_names = [\"Class {}\".format(i) for i in range(2)]\n",
    "predicted_classes = np.argmax(np.round(predicted_classes),axis=1)\n",
    "print(classification_report(y_train1, predicted_classes, target_names=target_names))"
   ]
  }
 ],
 "metadata": {
  "kernelspec": {
   "display_name": "Python 3",
   "language": "python",
   "name": "python3"
  },
  "language_info": {
   "codemirror_mode": {
    "name": "ipython",
    "version": 3
   },
   "file_extension": ".py",
   "mimetype": "text/x-python",
   "name": "python",
   "nbconvert_exporter": "python",
   "pygments_lexer": "ipython3",
   "version": "3.7.1"
  }
 },
 "nbformat": 4,
 "nbformat_minor": 2
}
