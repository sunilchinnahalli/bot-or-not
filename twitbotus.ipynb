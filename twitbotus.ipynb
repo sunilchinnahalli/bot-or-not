{
 "cells": [
  {
   "cell_type": "code",
   "execution_count": 1,
   "metadata": {},
   "outputs": [
    {
     "name": "stderr",
     "output_type": "stream",
     "text": [
      "Using TensorFlow backend.\n"
     ]
    }
   ],
   "source": [
    "import pandas as pd\n",
    "import numpy as np\n",
    "import math\n",
    "\n",
    "from keras.layers import Embedding, Dense, LSTM, Dense, Input, concatenate\n",
    "from keras.models import Model\n",
    "from keras.utils import plot_model\n",
    "\n",
    "from keras.preprocessing.text import Tokenizer\n",
    "from keras.preprocessing.sequence import pad_sequences"
   ]
  },
  {
   "cell_type": "code",
   "execution_count": 2,
   "metadata": {},
   "outputs": [
    {
     "name": "stderr",
     "output_type": "stream",
     "text": [
      "C:\\Users\\STUDENT\\Anaconda3\\lib\\site-packages\\ipykernel_launcher.py:1: FutureWarning: Sorting because non-concatenation axis is not aligned. A future version\n",
      "of pandas will change to not sort by default.\n",
      "\n",
      "To accept the future behavior, pass 'sort=False'.\n",
      "\n",
      "To retain the current behavior and silence the warning, pass 'sort=True'.\n",
      "\n",
      "  \"\"\"Entry point for launching an IPython kernel.\n"
     ]
    }
   ],
   "source": [
    "bot_accounts = pd.concat([pd.read_csv('social_spambots_1.csv'), pd.read_csv('social_spambots_2.csv'), pd.read_csv('social_spambots_3.csv')]).reset_index(drop=True)\n",
    "clean_accounts = pd.read_csv('geniune_accounts.csv')\n",
    "\n",
    "requiredColumns = ['listed_count', 'geo_enabled', 'verified', 'statuses_count', 'friends_count','followers_count', 'favourites_count', 'profile_use_background_image', 'protected', 'default_profile']\n",
    "bot_accounts = bot_accounts[requiredColumns]\n",
    "clean_accounts = clean_accounts[requiredColumns]\n",
    "def clean_df(df):\n",
    "    \n",
    "    \n",
    "    df['listed_count'] = df['listed_count'].apply(lambda x: x if x==x else 0)\n",
    "    df['geo_enabled'] = df['geo_enabled'].apply(lambda x: 1 if x==x else 0)\n",
    "    df['statuses_count'] = df['statuses_count'].apply(lambda x: x if x==x else 0)\n",
    "    df['friends_count'] = df['friends_count'].apply(lambda x: x if x==x else 0)\n",
    "    df['followers_count'] = df['followers_count'].apply(lambda x: x if x==x else 0)\n",
    "    df['favourites_count'] = df['favourites_count'].apply(lambda x: x if x==x else 0)\n",
    "    df['profile_use_background_image'] = df['profile_use_background_image'].apply(lambda x: 1 if x==x else 0)\n",
    "    df['verified']=df['verified'].apply(lambda x: 1 if x==x else 0)\n",
    "    df['is_protected']=df['protected'].apply(lambda x: 1 if x==x else 0)\n",
    "    df['default_profile'] = df['default_profile'].apply(lambda x: 0 if x==x else 1)\n",
    "    #df = df.rename(index=str, columns={\"screen_name\": \"username\", \"statuses_count\": \"total_tweets\", \"friends_count\": \"total_following\", \"followers_count\": \"total_followers\", \"favourites_count\": \"total_likes\"})\n",
    "    return df[['listed_count', 'geo_enabled', 'verified', 'statuses_count', 'friends_count','followers_count', 'favourites_count', 'profile_use_background_image', 'is_protected', 'default_profile']]\n",
    "\n",
    "bot_accounts = clean_df(bot_accounts)\n",
    "clean_accounts = clean_df(clean_accounts)\n",
    "#print(bot_accounts)\n",
    "\n",
    "    \n",
    "\n"
   ]
  },
  {
   "cell_type": "code",
   "execution_count": 3,
   "metadata": {},
   "outputs": [],
   "source": [
    "bot_accounts['BotOrNot'] = 1\n",
    "clean_accounts['BotOrNot'] = 0\n",
    "#print(bot_accounts)\n",
    "#print(clean_accounts)\n",
    "\n",
    "combined_df = pd.concat([bot_accounts, clean_accounts])\n",
    "\n",
    "new_df = combined_df.sample(frac=1).reset_index(drop=True)"
   ]
  },
  {
   "cell_type": "code",
   "execution_count": null,
   "metadata": {},
   "outputs": [],
   "source": []
  },
  {
   "cell_type": "code",
   "execution_count": 4,
   "metadata": {},
   "outputs": [
    {
     "name": "stderr",
     "output_type": "stream",
     "text": [
      "C:\\Users\\STUDENT\\Anaconda3\\lib\\site-packages\\pandas\\core\\frame.py:3140: SettingWithCopyWarning: \n",
      "A value is trying to be set on a copy of a slice from a DataFrame.\n",
      "Try using .loc[row_indexer,col_indexer] = value instead\n",
      "\n",
      "See the caveats in the documentation: http://pandas.pydata.org/pandas-docs/stable/indexing.html#indexing-view-versus-copy\n",
      "  self[k1] = value[k2]\n"
     ]
    }
   ],
   "source": [
    "training_df = new_df[:int(combined_df.shape[0] * 0.8)]\n",
    "test_df = new_df[int(combined_df.shape[0] * 0.8):]\n",
    "\n",
    "\n",
    "\n",
    "columns_to_standardize = ['listed_count', 'geo_enabled', 'verified', 'statuses_count', 'friends_count','followers_count', 'favourites_count', 'profile_use_background_image', 'is_protected', 'default_profile']\n",
    "\n",
    "training_df_mean = training_df[columns_to_standardize].mean()\n",
    "training_df_std = training_df[columns_to_standardize].std()\n",
    "\n",
    "training_df[columns_to_standardize] = (training_df[columns_to_standardize] - training_df_mean)/training_df_std\n",
    "test_df[columns_to_standardize] = (test_df[columns_to_standardize] - training_df_mean)/training_df_std\n",
    "\n",
    "# training_df_mean = training_df.mean()\n",
    "# training_df_std = training_df.std()\n",
    "\n",
    "# training_df = (training_df - training_df_mean)/training_df_std\n",
    "# test_df = (test_df - training_df_mean)/training_df_std\n",
    "\n",
    "# max_vals = training_df.max()\n",
    "\n",
    "# training_df = training_df/max_vals\n",
    "# test_df = test_df/max_vals"
   ]
  },
  {
   "cell_type": "code",
   "execution_count": 10,
   "metadata": {},
   "outputs": [
    {
     "name": "stdout",
     "output_type": "stream",
     "text": [
      "\n"
     ]
    },
    {
     "name": "stderr",
     "output_type": "stream",
     "text": [
      "C:\\Users\\STUDENT\\Anaconda3\\lib\\site-packages\\sklearn\\utils\\validation.py:761: DataConversionWarning: A column-vector y was passed when a 1d array was expected. Please change the shape of y to (n_samples, ), for example using ravel().\n",
      "  y = column_or_1d(y, warn=True)\n",
      "C:\\Users\\STUDENT\\Anaconda3\\lib\\site-packages\\sklearn\\utils\\validation.py:761: DataConversionWarning: A column-vector y was passed when a 1d array was expected. Please change the shape of y to (n_samples, ), for example using ravel().\n",
      "  y = column_or_1d(y, warn=True)\n"
     ]
    },
    {
     "name": "stdout",
     "output_type": "stream",
     "text": [
      "Accuracy: 0.9964243146603099\n"
     ]
    }
   ],
   "source": [
    "#X_train = training_df.drop(['BotOrNot', 'is_protected'], axis=1).values\n",
    "#y_train = training_df['BotOrNot'].values.reshape(-1,1)\n",
    "#print(X_train)\n",
    "X_train = training_df\n",
    "y_train = training_df['BotOrNot'].values.reshape(-1,1)\n",
    "\n",
    "X_test = test_df\n",
    "y_test = test_df['BotOrNot'].values.reshape(-1,1)\n",
    "print()\n",
    "from sklearn.datasets import make_classification\n",
    "from imblearn.over_sampling import SMOTE\n",
    "from imblearn.combine import SMOTEENN\n",
    "sm = SMOTEENN()\n",
    "X_train, y_train = sm.fit_sample(X_train, y_train)\n",
    "#print(X_train)\n",
    "from sklearn.ensemble import AdaBoostClassifier\n",
    "\n",
    "# Import Support Vector Classifier\n",
    "from sklearn.svm import SVC\n",
    "#Import scikit-learn metrics module for accuracy calculation\n",
    "from sklearn import metrics\n",
    "svc=SVC(probability=True, kernel='linear')\n",
    "\n",
    "# Create adaboost classifer object\n",
    "abc =AdaBoostClassifier(n_estimators=50, base_estimator=svc,learning_rate=1)\n",
    "\n",
    "# Train Adaboost Classifer\n",
    "model = abc.fit(X_train, y_train)\n",
    "\n",
    "#Predict the response for test dataset\n",
    "y_pred = model.predict(X_test)\n",
    "\n",
    "\n",
    "# Model Accuracy, how often is the classifier correct?\n",
    "print(\"Accuracy:\",metrics.accuracy_score(y_test, y_pred))"
   ]
  },
  {
   "cell_type": "code",
   "execution_count": 6,
   "metadata": {},
   "outputs": [
    {
     "name": "stdout",
     "output_type": "stream",
     "text": [
      "WARNING:tensorflow:From C:\\Users\\STUDENT\\Anaconda3\\lib\\site-packages\\tensorflow\\python\\framework\\op_def_library.py:263: colocate_with (from tensorflow.python.framework.ops) is deprecated and will be removed in a future version.\n",
      "Instructions for updating:\n",
      "Colocations handled automatically by placer.\n"
     ]
    }
   ],
   "source": [
    "inp = Input(shape=[11])\n",
    "\n",
    "another = Dense(500, activation='relu')(inp)\n",
    "another = Dense(200, activation='relu')(another)\n",
    "another = Dense(1, activation='sigmoid')(another)\n",
    "\n",
    "mod = Model(inp, another)\n",
    "mod.compile(optimizer='adam', loss='binary_crossentropy', metrics=['accuracy'])"
   ]
  },
  {
   "cell_type": "code",
   "execution_count": 8,
   "metadata": {},
   "outputs": [
    {
     "name": "stdout",
     "output_type": "stream",
     "text": [
      "Train on 7798 samples, validate on 1678 samples\n",
      "Epoch 1/20\n",
      "7798/7798 [==============================] - 0s 14us/step - loss: 6.5361e-07 - acc: 1.0000 - val_loss: 0.0023 - val_acc: 0.9982\n",
      "Epoch 2/20\n",
      "7798/7798 [==============================] - 0s 13us/step - loss: 6.3727e-07 - acc: 1.0000 - val_loss: 0.0023 - val_acc: 0.9982\n",
      "Epoch 3/20\n",
      "7798/7798 [==============================] - 0s 12us/step - loss: 6.2008e-07 - acc: 1.0000 - val_loss: 0.0023 - val_acc: 0.9982\n",
      "Epoch 4/20\n",
      "7798/7798 [==============================] - 0s 13us/step - loss: 6.0452e-07 - acc: 1.0000 - val_loss: 0.0023 - val_acc: 0.9982\n",
      "Epoch 5/20\n",
      "7798/7798 [==============================] - 0s 12us/step - loss: 5.8971e-07 - acc: 1.0000 - val_loss: 0.0022 - val_acc: 0.9982\n",
      "Epoch 6/20\n",
      "7798/7798 [==============================] - 0s 13us/step - loss: 5.7481e-07 - acc: 1.0000 - val_loss: 0.0022 - val_acc: 0.9982\n",
      "Epoch 7/20\n",
      "7798/7798 [==============================] - 0s 13us/step - loss: 5.5960e-07 - acc: 1.0000 - val_loss: 0.0022 - val_acc: 0.9982\n",
      "Epoch 8/20\n",
      "7798/7798 [==============================] - 0s 12us/step - loss: 5.4540e-07 - acc: 1.0000 - val_loss: 0.0022 - val_acc: 0.9982\n",
      "Epoch 9/20\n",
      "7798/7798 [==============================] - 0s 12us/step - loss: 5.3035e-07 - acc: 1.0000 - val_loss: 0.0022 - val_acc: 0.9982\n",
      "Epoch 10/20\n",
      "7798/7798 [==============================] - 0s 13us/step - loss: 5.1751e-07 - acc: 1.0000 - val_loss: 0.0022 - val_acc: 0.9982\n",
      "Epoch 11/20\n",
      "7798/7798 [==============================] - 0s 11us/step - loss: 5.0076e-07 - acc: 1.0000 - val_loss: 0.0022 - val_acc: 0.9982\n",
      "Epoch 12/20\n",
      "7798/7798 [==============================] - 0s 13us/step - loss: 4.8135e-07 - acc: 1.0000 - val_loss: 0.0022 - val_acc: 0.9982\n",
      "Epoch 13/20\n",
      "7798/7798 [==============================] - 0s 16us/step - loss: 4.6405e-07 - acc: 1.0000 - val_loss: 0.0021 - val_acc: 0.9982\n",
      "Epoch 14/20\n",
      "7798/7798 [==============================] - 0s 12us/step - loss: 4.5010e-07 - acc: 1.0000 - val_loss: 0.0021 - val_acc: 0.9982\n",
      "Epoch 15/20\n",
      "7798/7798 [==============================] - 0s 13us/step - loss: 4.3945e-07 - acc: 1.0000 - val_loss: 0.0021 - val_acc: 0.9982\n",
      "Epoch 16/20\n",
      "7798/7798 [==============================] - 0s 12us/step - loss: 4.2922e-07 - acc: 1.0000 - val_loss: 0.0021 - val_acc: 0.9982\n",
      "Epoch 17/20\n",
      "7798/7798 [==============================] - 0s 14us/step - loss: 4.1904e-07 - acc: 1.0000 - val_loss: 0.0021 - val_acc: 0.9982\n",
      "Epoch 18/20\n",
      "7798/7798 [==============================] - 0s 14us/step - loss: 4.0910e-07 - acc: 1.0000 - val_loss: 0.0021 - val_acc: 0.9982\n",
      "Epoch 19/20\n",
      "7798/7798 [==============================] - 0s 13us/step - loss: 4.0154e-07 - acc: 1.0000 - val_loss: 0.0021 - val_acc: 0.9982\n",
      "Epoch 20/20\n",
      "7798/7798 [==============================] - 0s 11us/step - loss: 3.9263e-07 - acc: 1.0000 - val_loss: 0.0021 - val_acc: 0.9982\n"
     ]
    }
   ],
   "source": [
    "training = mod.fit(x=X_train, y=y_train, batch_size=200, epochs=20, validation_data=(X_test, y_test))"
   ]
  },
  {
   "cell_type": "code",
   "execution_count": 67,
   "metadata": {},
   "outputs": [],
   "source": [
    "mod.save('my_model.h5')"
   ]
  },
  {
   "cell_type": "code",
   "execution_count": 10,
   "metadata": {},
   "outputs": [
    {
     "name": "stdout",
     "output_type": "stream",
     "text": [
      "listed_count                       9.997615\n",
      "geo_enabled                        0.259392\n",
      "verified                           0.001640\n",
      "statuses_count                  8055.425462\n",
      "friends_count                    614.043381\n",
      "followers_count                  998.432469\n",
      "favourites_count                1983.179487\n",
      "profile_use_background_image       0.952296\n",
      "is_protected                       0.008945\n",
      "default_profile                    0.840936\n",
      "dtype: float64\n"
     ]
    }
   ],
   "source": [
    "print(training_df_mean)"
   ]
  },
  {
   "cell_type": "code",
   "execution_count": null,
   "metadata": {},
   "outputs": [],
   "source": []
  }
 ],
 "metadata": {
  "kernelspec": {
   "display_name": "Python 3",
   "language": "python",
   "name": "python3"
  },
  "language_info": {
   "codemirror_mode": {
    "name": "ipython",
    "version": 3
   },
   "file_extension": ".py",
   "mimetype": "text/x-python",
   "name": "python",
   "nbconvert_exporter": "python",
   "pygments_lexer": "ipython3",
   "version": "3.7.1"
  }
 },
 "nbformat": 4,
 "nbformat_minor": 2
}
