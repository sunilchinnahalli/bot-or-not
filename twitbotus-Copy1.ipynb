{
 "cells": [
  {
   "cell_type": "code",
   "execution_count": 2,
   "metadata": {},
   "outputs": [
    {
     "name": "stderr",
     "output_type": "stream",
     "text": [
      "Using TensorFlow backend.\n"
     ]
    }
   ],
   "source": [
    "import pandas as pd\n",
    "import numpy as np\n",
    "import math\n",
    "\n",
    "from keras.layers import Embedding, Dense, LSTM, Dense, Input, concatenate\n",
    "from keras.models import Model\n",
    "from keras.utils import plot_model\n",
    "\n",
    "from keras.preprocessing.text import Tokenizer\n",
    "from keras.preprocessing.sequence import pad_sequences"
   ]
  },
  {
   "cell_type": "code",
   "execution_count": 3,
   "metadata": {},
   "outputs": [
    {
     "name": "stderr",
     "output_type": "stream",
     "text": [
      "C:\\Users\\STUDENT\\Anaconda3\\lib\\site-packages\\IPython\\core\\interactiveshell.py:3020: DtypeWarning: Columns (10) have mixed types. Specify dtype option on import or set low_memory=False.\n",
      "  interactivity=interactivity, compiler=compiler, result=result)\n",
      "C:\\Users\\STUDENT\\Anaconda3\\lib\\site-packages\\IPython\\core\\interactiveshell.py:3020: DtypeWarning: Columns (0) have mixed types. Specify dtype option on import or set low_memory=False.\n",
      "  interactivity=interactivity, compiler=compiler, result=result)\n"
     ]
    }
   ],
   "source": [
    "#pd.read_csv('geniune_accountsTw.csv',  encoding='utf-8', engine='python')\n",
    "#pd.read_csv('social_spambots_1Tw.csv', encoding='utf-8',  engine='python')\n",
    "#pd.read_csv( 'social_spambots_2Tw.csv', encoding='utf-8',  engine='python')\n",
    "#pd.read_csv( 'social_spambots_3Tw.csv', encoding='utf-8',  engine='python')\n",
    "#bot_accounts = pd.concat([pd.read_csv('social_spambots_1Tw.csv'), pd.read_csv('social_spambots_2Tw.csv'), pd.read_csv('social_spambots_3Tw.csv')]).reset_index(drop=True)\n",
    "bot_accounts = pd.read_csv('social_spambots_1Tw.csv')\n",
    "clean_accounts = pd.read_csv('geniune_accountsTw.csv')\n",
    "#bot_accounts = pd.concat([pd.read_csv('social_spambots_1.csv'), pd.read_csv('social_spambots_2.csv'), pd.read_csv('social_spambots_3.csv')]).reset_index(drop=True)\n",
    "#clean_accounts = pd.read_csv('geniune_accounts.csv')\n",
    "requiredColumns = ['retweet_count', 'reply_count', 'favorite_count', 'num_hashtags', 'num_urls', 'num_mentions']\n",
    "bot_accounts = bot_accounts[requiredColumns]\n",
    "clean_accounts = clean_accounts[requiredColumns]\n",
    "def clean_df(df):\n",
    "    \n",
    "    df['retweet_count'] = df['retweet_count'].apply(lambda x: 1 if x==x else 0)\n",
    "    df['reply_count'] = df['reply_count'].apply(lambda x: 1 if x==x else 0)\n",
    "    df['favorite_count'] = df['favorite_count'].apply(lambda x: 1 if x==x else 0)\n",
    "    df['num_hashtags'] = df['num_hashtags'].apply(lambda x: 1 if x==x else 0)\n",
    "    df['num_urls'] = df['num_urls'].apply(lambda x: 1 if x==x else 0)\n",
    "    df['num_mentions'] = df['num_mentions'].apply(lambda x: 1 if x==x else 0)\n",
    "    #df['profile_use_background_image'] = df['profile_use_background_image'].apply(lambda x: 1 if x==x else 0)\n",
    "    #df['verified']=df['verified'].apply(lambda x: 1 if x==x else 0)\n",
    "    #df['is_protected']=df['protected'].apply(lambda x: 1 if x==x else 0)\n",
    "    #df['default_profile'] = df['default_profile'].apply(lambda x: 0 if x==x else 1)\n",
    "    #df = df.rename(index=str, columns={\"screen_name\": \"username\", \"statuses_count\": \"total_tweets\", \"friends_count\": \"total_following\", \"followers_count\": \"total_followers\", \"favourites_count\": \"total_likes\"})\n",
    "    return df[['retweet_count', 'reply_count', 'favorite_count', 'num_hashtags', 'num_urls','num_mentions']]\n",
    "\n",
    "bot_accounts = clean_df(bot_accounts)\n",
    "clean_accounts = clean_df(clean_accounts)\n",
    "#print(bot_accounts)\n",
    "\n",
    "\n",
    "\n",
    "\n",
    "\n",
    "\n",
    "\n",
    "\n",
    "    \n",
    "\n"
   ]
  },
  {
   "cell_type": "code",
   "execution_count": 4,
   "metadata": {},
   "outputs": [],
   "source": [
    "bot_accounts['BotOrNot'] = 1\n",
    "clean_accounts['BotOrNot'] = 0\n",
    "#print(bot_accounts)\n",
    "#print(clean_accounts)\n",
    "\n",
    "combined_df = pd.concat([bot_accounts, clean_accounts])\n",
    "\n",
    "new_df = combined_df.sample(frac=1).reset_index(drop=True)"
   ]
  },
  {
   "cell_type": "code",
   "execution_count": null,
   "metadata": {},
   "outputs": [],
   "source": []
  },
  {
   "cell_type": "code",
   "execution_count": 5,
   "metadata": {},
   "outputs": [],
   "source": [
    "training_df = new_df[:int(combined_df.shape[0] * 0.8)]\n",
    "test_df = new_df[int(combined_df.shape[0] * 0.8):]\n",
    "\n",
    "\n",
    "\n",
    "columns_to_standardize = ['retweet_count', 'reply_count', 'favorite_count', 'num_hashtags', 'num_urls','num_mentions']\n",
    "\n",
    "training_df_mean = training_df[columns_to_standardize].mean()\n",
    "training_df_std = training_df[columns_to_standardize].std()\n",
    "\n",
    "#training_df[columns_to_standardize] = (training_df[columns_to_standardize] - training_df_mean)/training_df_std\n",
    "#test_df[columns_to_standardize] = (test_df[columns_to_standardize] - training_df_mean)/training_df_std\n",
    "\n",
    "# training_df_mean = training_df.mean()\n",
    "# training_df_std = training_df.std()\n",
    "\n",
    "# training_df = (training_df - training_df_mean)/training_df_std\n",
    "# test_df = (test_df - training_df_mean)/training_df_std\n",
    "\n",
    "# max_vals = training_df.max()\n",
    "\n",
    "# training_df = training_df/max_vals\n",
    "# test_df = test_df/max_vals"
   ]
  },
  {
   "cell_type": "code",
   "execution_count": null,
   "metadata": {},
   "outputs": [],
   "source": [
    "#X_train = training_df.drop(['BotOrNot', 'is_protected'], axis=1).values\n",
    "#y_train = training_df['BotOrNot'].values.reshape(-1,1)\n",
    "#print(X_train)\n",
    "X_train = training_df\n",
    "y_train = training_df['BotOrNot'].values.reshape(-1,1)\n",
    "\n",
    "X_test = test_df\n",
    "y_test = test_df['BotOrNot'].values.reshape(-1,1)\n",
    "print()\n",
    "from sklearn.datasets import make_classification\n",
    "from imblearn.over_sampling import SMOTE\n",
    "from imblearn.combine import SMOTEENN\n",
    "sm = SMOTEENN()\n",
    "X_train, y_train = sm.fit_sample(X_train, y_train)\n",
    "#print(X_train)\n",
    "from sklearn.ensemble import AdaBoostClassifier\n",
    "\n",
    "# Import Support Vector Classifier\n",
    "from sklearn.svm import SVC\n",
    "#Import scikit-learn metrics module for accuracy calculation\n",
    "from sklearn import metrics\n",
    "svc=SVC(probability=True, kernel='linear')\n",
    "\n",
    "# Create adaboost classifer object\n",
    "abc =AdaBoostClassifier(n_estimators=50, base_estimator=svc,learning_rate=1)\n",
    "\n",
    "# Train Adaboost Classifer\n",
    "model = abc.fit(X_train, y_train)\n",
    "\n",
    "#Predict the response for test dataset\n",
    "y_pred = model.predict(X_test)\n",
    "\n",
    "\n",
    "# Model Accuracy, how often is the classifier correct?\n",
    "print(\"Accuracy:\",metrics.accuracy_score(y_test, y_pred))"
   ]
  },
  {
   "cell_type": "code",
   "execution_count": null,
   "metadata": {},
   "outputs": [],
   "source": [
    "inp = Input(shape=[11])\n",
    "\n",
    "another = Dense(500, activation='relu')(inp)\n",
    "another = Dense(200, activation='relu')(another)\n",
    "another = Dense(1, activation='sigmoid')(another)\n",
    "\n",
    "mod = Model(inp, another)\n",
    "mod.compile(optimizer='adam', loss='binary_crossentropy', metrics=['accuracy'])"
   ]
  },
  {
   "cell_type": "code",
   "execution_count": null,
   "metadata": {},
   "outputs": [],
   "source": [
    "training = mod.fit(x=X_train, y=y_train, batch_size=200, epochs=200, validation_data=(X_test, y_test))"
   ]
  },
  {
   "cell_type": "code",
   "execution_count": 67,
   "metadata": {},
   "outputs": [],
   "source": [
    "mod.save('my_model.h5')"
   ]
  }
 ],
 "metadata": {
  "kernelspec": {
   "display_name": "Python 3",
   "language": "python",
   "name": "python3"
  },
  "language_info": {
   "codemirror_mode": {
    "name": "ipython",
    "version": 3
   },
   "file_extension": ".py",
   "mimetype": "text/x-python",
   "name": "python",
   "nbconvert_exporter": "python",
   "pygments_lexer": "ipython3",
   "version": "3.6.8"
  }
 },
 "nbformat": 4,
 "nbformat_minor": 2
}
