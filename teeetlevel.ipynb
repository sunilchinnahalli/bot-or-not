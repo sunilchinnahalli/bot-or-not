{
  "nbformat": 4,
  "nbformat_minor": 0,
  "metadata": {
    "colab": {
      "name": "teeetlevel",
      "version": "0.3.2",
      "provenance": [],
      "include_colab_link": true
    },
    "kernelspec": {
      "name": "python3",
      "display_name": "Python 3"
    },
    "accelerator": "GPU"
  },
  "cells": [
    {
      "cell_type": "markdown",
      "metadata": {
        "id": "view-in-github",
        "colab_type": "text"
      },
      "source": [
        "<a href=\"https://colab.research.google.com/github/sunilchinnahalli/bot-or-not/blob/master/teeetlevel.ipynb\" target=\"_parent\"><img src=\"https://colab.research.google.com/assets/colab-badge.svg\" alt=\"Open In Colab\"/></a>"
      ]
    },
    {
      "metadata": {
        "id": "OI6wOTPeDUyE",
        "colab_type": "code",
        "outputId": "311c320d-a70c-46ee-acf5-8fb952b36f2e",
        "colab": {
          "base_uri": "https://localhost:8080/",
          "height": 34
        }
      },
      "cell_type": "code",
      "source": [
        "# Load the Drive helper and mount\n",
        "from google.colab import drive\n",
        "\n",
        "# This will prompt for authorization.\n",
        "drive.mount('/content/drive')"
      ],
      "execution_count": 2,
      "outputs": [
        {
          "output_type": "stream",
          "text": [
            "Drive already mounted at /content/drive; to attempt to forcibly remount, call drive.mount(\"/content/drive\", force_remount=True).\n"
          ],
          "name": "stdout"
        }
      ]
    },
    {
      "metadata": {
        "id": "E3dkp_KYDYbh",
        "colab_type": "code",
        "outputId": "5bbf9a75-eadf-430a-b929-1d574b99be15",
        "colab": {
          "base_uri": "https://localhost:8080/",
          "height": 34
        }
      },
      "cell_type": "code",
      "source": [
        "import pandas as pd\n",
        "import numpy as np\n",
        "import re\n",
        "\n",
        "from keras.layers import Embedding, Dense, LSTM, Dense, Input, concatenate\n",
        "from keras.models import Model\n",
        "from keras.utils import plot_model\n",
        "\n",
        "from keras.preprocessing.text import Tokenizer\n",
        "from keras.preprocessing.sequence import pad_sequences"
      ],
      "execution_count": 3,
      "outputs": [
        {
          "output_type": "stream",
          "text": [
            "Using TensorFlow backend.\n"
          ],
          "name": "stderr"
        }
      ]
    },
    {
      "metadata": {
        "id": "casNY7WlDg64",
        "colab_type": "code",
        "outputId": "80e0fb27-a5bf-4d99-edce-7f236462fbee",
        "colab": {
          "base_uri": "https://localhost:8080/",
          "height": 105
        }
      },
      "cell_type": "code",
      "source": [
        "#bot_tweets = pd.concat([pd.read_csv('/content/drive/My Drive/twitter/social_spambots_1Tw.csv'), pd.read_csv('/content/drive/My Drive/twitter/social_spambots_2Tw.csv', encoding = \"ISO-8859-1\"), pd.read_csv('/content/drive/My Drive/twitter/social_spambots_3Tw.csv')]).reset_index(drop=True)\n",
        "\n",
        "bot_tweets = pd.concat([pd.read_csv('/content/drive/My Drive/twitter/social_spambots_1Tw.csv',nrows=200000)]).reset_index(drop=True)\n",
        "\n",
        "clean_tweets = pd.read_csv('/content/drive/My Drive/twitter/geniune_accountsTw.csv', nrows=200000)"
      ],
      "execution_count": 4,
      "outputs": [
        {
          "output_type": "stream",
          "text": [
            "/usr/local/lib/python3.6/dist-packages/IPython/core/interactiveshell.py:2718: DtypeWarning: Columns (7,10) have mixed types. Specify dtype option on import or set low_memory=False.\n",
            "  interactivity=interactivity, compiler=compiler, result=result)\n",
            "/usr/local/lib/python3.6/dist-packages/IPython/core/interactiveshell.py:2718: DtypeWarning: Columns (10) have mixed types. Specify dtype option on import or set low_memory=False.\n",
            "  interactivity=interactivity, compiler=compiler, result=result)\n"
          ],
          "name": "stderr"
        }
      ]
    },
    {
      "metadata": {
        "id": "d2u3ZhvyDtB6",
        "colab_type": "code",
        "outputId": "78a88caf-bb38-4e3d-d270-33d16e38d4dd",
        "colab": {
          "base_uri": "https://localhost:8080/",
          "height": 629
        }
      },
      "cell_type": "code",
      "source": [
        "requiredColumns = ['retweet_count', 'reply_count', 'favorite_count', 'num_hashtags', 'num_urls', 'num_mentions']\n",
        "bot_accounts = bot_tweets[requiredColumns]\n",
        "clean_accounts = clean_tweets[requiredColumns]\n",
        "def clean_df(df):\n",
        "    \n",
        "    df['retweet_count'] = df['retweet_count'].apply(lambda x: 1 if x==x else 0)\n",
        "    df['reply_count'] = df['reply_count'].apply(lambda x: 1 if x==x else 0)\n",
        "    df['favorite_count'] = df['favorite_count'].apply(lambda x: 1 if x==x else 0)\n",
        "    df['num_hashtags'] = df['num_hashtags'].apply(lambda x: 1 if x==x else 0)\n",
        "    df['num_urls'] = df['num_urls'].apply(lambda x: 1 if x==x else 0)\n",
        "    df['num_mentions'] = df['num_mentions'].apply(lambda x: 1 if x==x else 0)\n",
        "    #df['profile_use_background_image'] = df['profile_use_background_image'].apply(lambda x: 1 if x==x else 0)\n",
        "    #df['verified']=df['verified'].apply(lambda x: 1 if x==x else 0)\n",
        "    #df['is_protected']=df['protected'].apply(lambda x: 1 if x==x else 0)\n",
        "    #df['default_profile'] = df['default_profile'].apply(lambda x: 0 if x==x else 1)\n",
        "    #df = df.rename(index=str, columns={\"screen_name\": \"username\", \"statuses_count\": \"total_tweets\", \"friends_count\": \"total_following\", \"followers_count\": \"total_followers\", \"favourites_count\": \"total_likes\"})\n",
        "    return df[['retweet_count', 'reply_count', 'favorite_count', 'num_hashtags', 'num_urls','num_mentions']]\n",
        "\n",
        "bot_accounts = clean_df(bot_accounts)\n",
        "clean_accounts = clean_df(clean_accounts)\n",
        "#print(bot_accounts)"
      ],
      "execution_count": 5,
      "outputs": [
        {
          "output_type": "stream",
          "text": [
            "/usr/local/lib/python3.6/dist-packages/ipykernel_launcher.py:6: SettingWithCopyWarning: \n",
            "A value is trying to be set on a copy of a slice from a DataFrame.\n",
            "Try using .loc[row_indexer,col_indexer] = value instead\n",
            "\n",
            "See the caveats in the documentation: http://pandas.pydata.org/pandas-docs/stable/indexing.html#indexing-view-versus-copy\n",
            "  \n",
            "/usr/local/lib/python3.6/dist-packages/ipykernel_launcher.py:7: SettingWithCopyWarning: \n",
            "A value is trying to be set on a copy of a slice from a DataFrame.\n",
            "Try using .loc[row_indexer,col_indexer] = value instead\n",
            "\n",
            "See the caveats in the documentation: http://pandas.pydata.org/pandas-docs/stable/indexing.html#indexing-view-versus-copy\n",
            "  import sys\n",
            "/usr/local/lib/python3.6/dist-packages/ipykernel_launcher.py:8: SettingWithCopyWarning: \n",
            "A value is trying to be set on a copy of a slice from a DataFrame.\n",
            "Try using .loc[row_indexer,col_indexer] = value instead\n",
            "\n",
            "See the caveats in the documentation: http://pandas.pydata.org/pandas-docs/stable/indexing.html#indexing-view-versus-copy\n",
            "  \n",
            "/usr/local/lib/python3.6/dist-packages/ipykernel_launcher.py:9: SettingWithCopyWarning: \n",
            "A value is trying to be set on a copy of a slice from a DataFrame.\n",
            "Try using .loc[row_indexer,col_indexer] = value instead\n",
            "\n",
            "See the caveats in the documentation: http://pandas.pydata.org/pandas-docs/stable/indexing.html#indexing-view-versus-copy\n",
            "  if __name__ == '__main__':\n",
            "/usr/local/lib/python3.6/dist-packages/ipykernel_launcher.py:10: SettingWithCopyWarning: \n",
            "A value is trying to be set on a copy of a slice from a DataFrame.\n",
            "Try using .loc[row_indexer,col_indexer] = value instead\n",
            "\n",
            "See the caveats in the documentation: http://pandas.pydata.org/pandas-docs/stable/indexing.html#indexing-view-versus-copy\n",
            "  # Remove the CWD from sys.path while we load stuff.\n",
            "/usr/local/lib/python3.6/dist-packages/ipykernel_launcher.py:11: SettingWithCopyWarning: \n",
            "A value is trying to be set on a copy of a slice from a DataFrame.\n",
            "Try using .loc[row_indexer,col_indexer] = value instead\n",
            "\n",
            "See the caveats in the documentation: http://pandas.pydata.org/pandas-docs/stable/indexing.html#indexing-view-versus-copy\n",
            "  # This is added back by InteractiveShellApp.init_path()\n"
          ],
          "name": "stderr"
        }
      ]
    },
    {
      "metadata": {
        "id": "D3jbW8vGESei",
        "colab_type": "code",
        "colab": {}
      },
      "cell_type": "code",
      "source": [
        "bot_accounts['BotOrNot'] = 1\n",
        "clean_accounts['BotOrNot'] = 0\n",
        "#print(bot_accounts)\n",
        "#print(clean_accounts)\n",
        "\n",
        "combined_df = pd.concat([bot_accounts, clean_accounts])\n",
        "\n",
        "new_df = combined_df.sample(frac=1).reset_index(drop=True)"
      ],
      "execution_count": 0,
      "outputs": []
    },
    {
      "metadata": {
        "id": "GWzuW4wJDxUo",
        "colab_type": "code",
        "colab": {}
      },
      "cell_type": "code",
      "source": [
        "training_df = new_df[:int(combined_df.shape[0] * 0.8)]\n",
        "test_df = new_df[int(combined_df.shape[0] * 0.8):]\n",
        "\n",
        "\n",
        "\n",
        "columns_to_standardize = ['retweet_count', 'reply_count', 'favorite_count', 'num_hashtags', 'num_urls','num_mentions']\n",
        "\n",
        "training_df_mean = training_df[columns_to_standardize].mean()\n",
        "training_df_std = training_df[columns_to_standardize].std()\n",
        "\n",
        "#training_df[columns_to_standardize] = (training_df[columns_to_standardize] - training_df_mean)/training_df_std\n",
        "#test_df[columns_to_standardize] = (test_df[columns_to_standardize] - training_df_mean)/training_df_std\n",
        "\n",
        "# training_df_mean = training_df.mean()\n",
        "# training_df_std = training_df.std()\n",
        "\n",
        "# training_df = (training_df - training_df_mean)/training_df_std\n",
        "# test_df = (test_df - training_df_mean)/training_df_std\n",
        "\n",
        "# max_vals = training_df.max()\n",
        "\n",
        "# training_df = training_df/max_vals\n",
        "# test_df = test_df/max_vals\n"
      ],
      "execution_count": 0,
      "outputs": []
    },
    {
      "metadata": {
        "id": "KzjLUxdbEdTx",
        "colab_type": "code",
        "colab": {}
      },
      "cell_type": "code",
      "source": [
        ""
      ],
      "execution_count": 0,
      "outputs": []
    },
    {
      "metadata": {
        "id": "i5QR_IllD2Tg",
        "colab_type": "code",
        "outputId": "99b29b1b-cdee-4623-fba6-5ee5e5e01fac",
        "colab": {
          "base_uri": "https://localhost:8080/",
          "height": 105
        }
      },
      "cell_type": "code",
      "source": [
        "#X_train = training_df.drop(['BotOrNot', 'is_protected'], axis=1).values\n",
        "#y_train = training_df['BotOrNot'].values.reshape(-1,1)\n",
        "#print(X_train)\n",
        "X_train = training_df\n",
        "y_train = training_df['BotOrNot'].values.reshape(-1,1)\n",
        "\n",
        "X_test = test_df\n",
        "y_test = test_df['BotOrNot'].values.reshape(-1,1)\n",
        "print()\n",
        "from sklearn.datasets import make_classification\n",
        "from imblearn.over_sampling import SMOTE\n",
        "from imblearn.combine import SMOTEENN\n",
        "sm = SMOTEENN()\n",
        "X_train, y_train = sm.fit_sample(X_train, y_train)\n",
        "#print(X_train)\n",
        "from sklearn.ensemble import AdaBoostClassifier\n",
        "\n",
        "# Import Support Vector Classifier\n",
        "from sklearn.svm import SVC\n",
        "#Import scikit-learn metrics module for accuracy calculation\n",
        "from sklearn import metrics\n",
        "svc=SVC(probability=True, kernel='linear')\n",
        "\n",
        "# Create adaboost classifer object\n",
        "abc =AdaBoostClassifier(n_estimators=50, base_estimator=svc,learning_rate=1)\n",
        "\n",
        "# Train Adaboost Classifer\n",
        "model = abc.fit(X_train, y_train)\n",
        "\n",
        "#Predict the response for test dataset\n",
        "y_pred = model.predict(X_test)\n",
        "\n",
        "\n",
        "# Model Accuracy, how often is the classifier correct?\n",
        "print(\"Accuracy:\",metrics.accuracy_score(y_test, y_pred))"
      ],
      "execution_count": 8,
      "outputs": [
        {
          "output_type": "stream",
          "text": [
            "\n"
          ],
          "name": "stdout"
        },
        {
          "output_type": "stream",
          "text": [
            "/usr/local/lib/python3.6/dist-packages/sklearn/utils/validation.py:761: DataConversionWarning: A column-vector y was passed when a 1d array was expected. Please change the shape of y to (n_samples, ), for example using ravel().\n",
            "  y = column_or_1d(y, warn=True)\n"
          ],
          "name": "stderr"
        },
        {
          "output_type": "stream",
          "text": [
            "Accuracy: 1.0\n"
          ],
          "name": "stdout"
        }
      ]
    },
    {
      "metadata": {
        "id": "Y4FIlS07Eg6J",
        "colab_type": "code",
        "colab": {}
      },
      "cell_type": "code",
      "source": [
        "#predicted_classes = np.argmax(np.round(predicted_classes))\n",
        "#print(classification_report(y_train, predicted_classes, target_names=target_names))\n",
        "def get_accuracy(AL, y, verbose=1):\n",
        "    \n",
        "    try:\n",
        "        AL = np.array(AL)\n",
        "        y = np.array(y)\n",
        "\n",
        "        AL = AL.reshape(-1)\n",
        "        y = y.reshape(-1)\n",
        "\n",
        "        AL = AL > 0.5\n",
        "        AL = AL.astype(int)\n",
        "\n",
        "        y = y > 0.5\n",
        "        y = y.astype(int)\n",
        "\n",
        "        total = AL.shape[0]\n",
        "\n",
        "        TP = np.sum(np.logical_and(AL==1, y==1))\n",
        "        TN = np.sum(np.logical_and(AL==0, y==0))\n",
        "\n",
        "        FP = np.sum(np.logical_and(AL==1, y==0))\n",
        "        FN = np.sum(np.logical_and(AL==0, y==1))\n",
        "\n",
        "        P = TP / (TP + FP)\n",
        "        R = TP / (TP + FN)\n",
        "        F1 = (2 * P * R) / (P + R)\n",
        "\n",
        "\n",
        "        acc = np.sum(AL == y)/total\n",
        "\n",
        "\n",
        "        if verbose == 1:\n",
        "            print(\"\\nAccuracy: {} \\n\".format(acc))\n",
        "            print(\"True Positive: {} \\nTrue Negative: {}\\nFalse Positive: {} \\nFalse Negative: {}\\n\".format(TP, TN, FP, FN))\n",
        "            print(\"Precision: {} \\nRecall: {} \\nF1 Score: {}\\n\".format(P, R, F1))\n",
        "        \n",
        "        return acc\n",
        "    except:\n",
        "        return 0"
      ],
      "execution_count": 0,
      "outputs": []
    },
    {
      "metadata": {
        "id": "FmDJS77KFaIJ",
        "colab_type": "code",
        "colab": {
          "base_uri": "https://localhost:8080/",
          "height": 238
        },
        "outputId": "bab89825-d480-410b-c2ae-9a5c5ad8a2f9"
      },
      "cell_type": "code",
      "source": [
        "y_predict = abc.predict(X_train)\n",
        "get_accuracy(y_predict, y_train)"
      ],
      "execution_count": 10,
      "outputs": [
        {
          "output_type": "stream",
          "text": [
            "\n",
            "Accuracy: 1.0 \n",
            "\n",
            "True Positive: 160047 \n",
            "True Negative: 160047\n",
            "False Positive: 0 \n",
            "False Negative: 0\n",
            "\n",
            "Precision: 1.0 \n",
            "Recall: 1.0 \n",
            "F1 Score: 1.0\n",
            "\n"
          ],
          "name": "stdout"
        },
        {
          "output_type": "execute_result",
          "data": {
            "text/plain": [
              "1.0"
            ]
          },
          "metadata": {
            "tags": []
          },
          "execution_count": 10
        }
      ]
    },
    {
      "metadata": {
        "id": "lK_2p1LqFdG5",
        "colab_type": "code",
        "colab": {
          "base_uri": "https://localhost:8080/",
          "height": 238
        },
        "outputId": "51cb93ef-2155-4d28-c9f6-e87048bab309"
      },
      "cell_type": "code",
      "source": [
        "#y_test_predict = abc.predict(X_test)\n",
        "get_accuracy(y_pred, y_test)"
      ],
      "execution_count": 12,
      "outputs": [
        {
          "output_type": "stream",
          "text": [
            "\n",
            "Accuracy: 1.0 \n",
            "\n",
            "True Positive: 40047 \n",
            "True Negative: 39953\n",
            "False Positive: 0 \n",
            "False Negative: 0\n",
            "\n",
            "Precision: 1.0 \n",
            "Recall: 1.0 \n",
            "F1 Score: 1.0\n",
            "\n"
          ],
          "name": "stdout"
        },
        {
          "output_type": "execute_result",
          "data": {
            "text/plain": [
              "1.0"
            ]
          },
          "metadata": {
            "tags": []
          },
          "execution_count": 12
        }
      ]
    }
  ]
}