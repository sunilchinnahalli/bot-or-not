{
 "cells": [
  {
   "cell_type": "code",
   "execution_count": 32,
   "metadata": {},
   "outputs": [],
   "source": [
    "import pandas as pd\n",
    "import numpy as np\n",
    "import re\n",
    "\n",
    "from keras.layers import Embedding, Dense, LSTM, Dense, Input, concatenate\n",
    "from keras.models import Model\n",
    "from keras.utils import plot_model\n",
    "\n",
    "from keras.preprocessing.text import Tokenizer\n",
    "from keras.preprocessing.sequence import pad_sequences"
   ]
  },
  {
   "cell_type": "code",
   "execution_count": 33,
   "metadata": {},
   "outputs": [],
   "source": [
    "df = pd.read_csv('new_labeled_tweets1.csv', nrows=500000)"
   ]
  },
  {
   "cell_type": "code",
   "execution_count": 3,
   "metadata": {},
   "outputs": [],
   "source": [
    "df = df.dropna(subset=['text'])\n",
    "splits = df['text'].str.split(' ')\n",
    "to_remove = splits.apply(lambda x: len(x)).sort_values(ascending=False)[:10].index\n",
    "df = df.drop(to_remove).reset_index(drop=True)"
   ]
  },
  {
   "cell_type": "code",
   "execution_count": 4,
   "metadata": {},
   "outputs": [],
   "source": [
    "df['text'] = df['text'].str.replace('<quoted_status>', '<quoted_status> ')\n",
    "df['text'] = df['text'].str.replace('<hashtag>', '<hashtag> ')\n",
    "df['text'] = df['text'].apply(lambda x: re.sub( '\\s+', ' ', x ).strip())"
   ]
  },
  {
   "cell_type": "code",
   "execution_count": 5,
   "metadata": {},
   "outputs": [],
   "source": [
    "df_clean_split = df['text'].str.split(' ', expand=True)\n",
    "words = df_clean_split.stack().unique()\n",
    "max_sequence = df_clean_split.shape[1]"
   ]
  },
  {
   "cell_type": "code",
   "execution_count": 6,
   "metadata": {},
   "outputs": [],
   "source": [
    "tockenizer = Tokenizer(words.shape[0]) \n",
    "tockenizer.fit_on_texts(df['text'])\n",
    "sequences = tockenizer.texts_to_sequences(df['text'])"
   ]
  },
  {
   "cell_type": "code",
   "execution_count": 7,
   "metadata": {},
   "outputs": [],
   "source": [
    "word_index = tockenizer.word_index\n",
    "data = pad_sequences(sequences, maxlen=max_sequence)"
   ]
  },
  {
   "cell_type": "code",
   "execution_count": null,
   "metadata": {},
   "outputs": [],
   "source": []
  },
  {
   "cell_type": "code",
   "execution_count": null,
   "metadata": {},
   "outputs": [],
   "source": []
  },
  {
   "cell_type": "code",
   "execution_count": 8,
   "metadata": {},
   "outputs": [],
   "source": [
    "word_index = tockenizer.word_index\n",
    "data = pad_sequences(sequences, maxlen=max_sequence)"
   ]
  },
  {
   "cell_type": "code",
   "execution_count": 9,
   "metadata": {},
   "outputs": [
    {
     "name": "stdout",
     "output_type": "stream",
     "text": [
      "Found 1193514 word vectors.\n"
     ]
    }
   ],
   "source": [
    "embeddings_index = {}\n",
    "f = open('glove.twitter.27B.50d.txt', encoding=\"utf8\")\n",
    "\n",
    "for line in f:\n",
    "    values = line.split()\n",
    "    word = values[0]\n",
    "    coefs = np.asarray(values[1:], dtype='float32')\n",
    "    embeddings_index[word] = coefs\n",
    "    \n",
    "f.close()\n",
    "\n",
    "print('Found %s word vectors.' % len(embeddings_index))"
   ]
  },
  {
   "cell_type": "code",
   "execution_count": 10,
   "metadata": {},
   "outputs": [],
   "source": [
    "embedding_matrix = np.zeros((len(word_index) + 1, 50))\n",
    "\n",
    "for word, i in word_index.items():\n",
    "    embedding_vector = embeddings_index.get(word)\n",
    "    if embedding_vector is not None:\n",
    "        # words not found in embedding index will be all-zeros.\n",
    "        embedding_matrix[i] = embedding_vector"
   ]
  },
  {
   "cell_type": "code",
   "execution_count": 11,
   "metadata": {},
   "outputs": [],
   "source": [
    "X_text_train = data[:300000,:]\n",
    "X_text_test = data[300000:,:]"
   ]
  },
  {
   "cell_type": "code",
   "execution_count": 12,
   "metadata": {},
   "outputs": [],
   "source": [
    "number_data = df[['retweet_count', 'favorite_count', 'reply_count', 'hashtag_count', 'mention_count', 'url_count']].values\n",
    "\n",
    "X_number_train = number_data[:300000,:]\n",
    "X_number_test = number_data[300000:,:]"
   ]
  },
  {
   "cell_type": "code",
   "execution_count": 13,
   "metadata": {},
   "outputs": [],
   "source": [
    "y_vals = df['BotOrNot'].values\n",
    "\n",
    "y_train = y_vals[:300000].reshape(-1,1)\n",
    "y_test = y_vals[300000:].reshape(-1,1)"
   ]
  },
  {
   "cell_type": "code",
   "execution_count": 14,
   "metadata": {},
   "outputs": [],
   "source": [
    "embedding_layer = Embedding(len(word_index) + 1,\n",
    "                            50,\n",
    "                            weights=[embedding_matrix],\n",
    "                            input_length=max_sequence,\n",
    "                            trainable=False)"
   ]
  },
  {
   "cell_type": "code",
   "execution_count": 15,
   "metadata": {},
   "outputs": [
    {
     "name": "stdout",
     "output_type": "stream",
     "text": [
      "WARNING:tensorflow:From C:\\Users\\STUDENT\\Anaconda3\\lib\\site-packages\\tensorflow\\python\\framework\\op_def_library.py:263: colocate_with (from tensorflow.python.framework.ops) is deprecated and will be removed in a future version.\n",
      "Instructions for updating:\n",
      "Colocations handled automatically by placer.\n"
     ]
    }
   ],
   "source": [
    "main_input = Input(shape=(max_sequence,), dtype='int32', name='main_input')\n",
    "embedded_sequences = embedding_layer(main_input)\n",
    "\n",
    "lstm_out = LSTM(32)(embedded_sequences)\n",
    "\n",
    "#auxiliary_output = Dense(1, activation='sigmoid', name='aux_output')(lstm_out)\n",
    "\n",
    "#auxiliary_input = Input(shape=(6,), name='aux_input')\n",
    "\n",
    "#x = concatenate([lstm_out, auxiliary_input])\n",
    "x =lstm_out\n",
    "\n",
    "x = Dense(128, activation='relu')(x)\n",
    "x = Dense(64, activation='relu')(x)\n",
    "\n",
    "main_output = Dense(1, activation='sigmoid', name='main_output')(x)"
   ]
  },
  {
   "cell_type": "code",
   "execution_count": 16,
   "metadata": {},
   "outputs": [],
   "source": [
    "model = Model(inputs=main_input, outputs=main_output)"
   ]
  },
  {
   "cell_type": "code",
   "execution_count": 17,
   "metadata": {},
   "outputs": [],
   "source": [
    "model.compile(optimizer='adam',\n",
    "              loss={'main_output': 'binary_crossentropy'},\n",
    "              loss_weights={'main_output': 1.},\n",
    "              metrics=['accuracy'])"
   ]
  },
  {
   "cell_type": "code",
   "execution_count": 18,
   "metadata": {},
   "outputs": [
    {
     "name": "stdout",
     "output_type": "stream",
     "text": [
      "_________________________________________________________________\n",
      "Layer (type)                 Output Shape              Param #   \n",
      "=================================================================\n",
      "main_input (InputLayer)      (None, 152)               0         \n",
      "_________________________________________________________________\n",
      "embedding_1 (Embedding)      (None, 152, 50)           9512500   \n",
      "_________________________________________________________________\n",
      "lstm_1 (LSTM)                (None, 32)                10624     \n",
      "_________________________________________________________________\n",
      "dense_1 (Dense)              (None, 128)               4224      \n",
      "_________________________________________________________________\n",
      "dense_2 (Dense)              (None, 64)                8256      \n",
      "_________________________________________________________________\n",
      "main_output (Dense)          (None, 1)                 65        \n",
      "=================================================================\n",
      "Total params: 9,535,669\n",
      "Trainable params: 23,169\n",
      "Non-trainable params: 9,512,500\n",
      "_________________________________________________________________\n"
     ]
    }
   ],
   "source": [
    "model.summary()"
   ]
  },
  {
   "cell_type": "code",
   "execution_count": 19,
   "metadata": {},
   "outputs": [
    {
     "name": "stdout",
     "output_type": "stream",
     "text": [
      "WARNING:tensorflow:From C:\\Users\\STUDENT\\Anaconda3\\lib\\site-packages\\tensorflow\\python\\ops\\math_ops.py:3066: to_int32 (from tensorflow.python.ops.math_ops) is deprecated and will be removed in a future version.\n",
      "Instructions for updating:\n",
      "Use tf.cast instead.\n",
      "Train on 300000 samples, validate on 199833 samples\n",
      "Epoch 1/20\n",
      "300000/300000 [==============================] - 174s 581us/step - loss: 0.2802 - acc: 0.8810 - val_loss: 0.2174 - val_acc: 0.9115\n",
      "Epoch 2/20\n",
      "300000/300000 [==============================] - 179s 598us/step - loss: 0.2037 - acc: 0.9182 - val_loss: 0.1974 - val_acc: 0.9222\n",
      "Epoch 3/20\n",
      "300000/300000 [==============================] - 157s 525us/step - loss: 0.1864 - acc: 0.9264 - val_loss: 0.1848 - val_acc: 0.9294\n",
      "Epoch 4/20\n",
      "300000/300000 [==============================] - 138s 460us/step - loss: 0.1762 - acc: 0.9321 - val_loss: 0.1778 - val_acc: 0.9310\n",
      "Epoch 5/20\n",
      "300000/300000 [==============================] - 122s 406us/step - loss: 0.1693 - acc: 0.9353 - val_loss: 0.1729 - val_acc: 0.9342\n",
      "Epoch 6/20\n",
      "300000/300000 [==============================] - 111s 369us/step - loss: 0.1638 - acc: 0.9377 - val_loss: 0.1700 - val_acc: 0.9367\n",
      "Epoch 7/20\n",
      "300000/300000 [==============================] - 111s 370us/step - loss: 0.1599 - acc: 0.9398 - val_loss: 0.1664 - val_acc: 0.9364\n",
      "Epoch 8/20\n",
      "300000/300000 [==============================] - 111s 369us/step - loss: 0.1559 - acc: 0.9410 - val_loss: 0.1619 - val_acc: 0.9392\n",
      "Epoch 9/20\n",
      "300000/300000 [==============================] - 111s 372us/step - loss: 0.1525 - acc: 0.9425 - val_loss: 0.1602 - val_acc: 0.9407\n",
      "Epoch 10/20\n",
      "300000/300000 [==============================] - 112s 372us/step - loss: 0.1501 - acc: 0.9434 - val_loss: 0.1653 - val_acc: 0.9381\n",
      "Epoch 11/20\n",
      "300000/300000 [==============================] - 112s 372us/step - loss: 0.1482 - acc: 0.9444 - val_loss: 0.1582 - val_acc: 0.9409\n",
      "Epoch 12/20\n",
      "300000/300000 [==============================] - 111s 371us/step - loss: 0.1456 - acc: 0.9455 - val_loss: 0.1576 - val_acc: 0.9415\n",
      "Epoch 13/20\n",
      "300000/300000 [==============================] - 111s 370us/step - loss: 0.1435 - acc: 0.9462 - val_loss: 0.1577 - val_acc: 0.9412\n",
      "Epoch 14/20\n",
      "300000/300000 [==============================] - 111s 371us/step - loss: 0.1416 - acc: 0.9469 - val_loss: 0.1544 - val_acc: 0.9424\n",
      "Epoch 15/20\n",
      "300000/300000 [==============================] - 111s 370us/step - loss: 0.1391 - acc: 0.9479 - val_loss: 0.1556 - val_acc: 0.9427\n",
      "Epoch 16/20\n",
      "300000/300000 [==============================] - 110s 368us/step - loss: 0.1379 - acc: 0.9485 - val_loss: 0.1581 - val_acc: 0.9427\n",
      "Epoch 17/20\n",
      "300000/300000 [==============================] - 110s 368us/step - loss: 0.1370 - acc: 0.9486 - val_loss: 0.1556 - val_acc: 0.9429\n",
      "Epoch 18/20\n",
      "300000/300000 [==============================] - 110s 368us/step - loss: 0.1352 - acc: 0.9494 - val_loss: 0.1536 - val_acc: 0.9439\n",
      "Epoch 19/20\n",
      "300000/300000 [==============================] - 111s 369us/step - loss: 0.1337 - acc: 0.9500 - val_loss: 0.1537 - val_acc: 0.9440\n",
      "Epoch 20/20\n",
      "300000/300000 [==============================] - 110s 367us/step - loss: 0.1326 - acc: 0.9504 - val_loss: 0.1550 - val_acc: 0.9430\n"
     ]
    },
    {
     "data": {
      "text/plain": [
       "<keras.callbacks.History at 0x2cefae58128>"
      ]
     },
     "execution_count": 19,
     "metadata": {},
     "output_type": "execute_result"
    }
   ],
   "source": [
    "model.fit({'main_input': X_text_train},\n",
    "          {'main_output': y_train},\n",
    "          validation_data=[{'main_input': X_text_test}, {'main_output': y_test}],\n",
    "          epochs=20, \n",
    "          batch_size=1024)"
   ]
  },
  {
   "cell_type": "code",
   "execution_count": 49,
   "metadata": {},
   "outputs": [
    {
     "name": "stdout",
     "output_type": "stream",
     "text": [
      "Accuracy: 0.44972552080987627\n"
     ]
    }
   ],
   "source": [
    "from sklearn import metrics\n",
    "Y_pred_test = model.predict(np.array(X_text_test))\n",
    "Y_pred_test = np.argmax(np.round(Y_pred_test),axis=1)\n",
    "print(\"Accuracy:\",metrics.accuracy_score(Y_pred_test, y_test))"
   ]
  },
  {
   "cell_type": "code",
   "execution_count": null,
   "metadata": {},
   "outputs": [],
   "source": []
  }
 ],
 "metadata": {
  "kernelspec": {
   "display_name": "Python 3",
   "language": "python",
   "name": "python3"
  },
  "language_info": {
   "codemirror_mode": {
    "name": "ipython",
    "version": 3
   },
   "file_extension": ".py",
   "mimetype": "text/x-python",
   "name": "python",
   "nbconvert_exporter": "python",
   "pygments_lexer": "ipython3",
   "version": "3.7.1"
  }
 },
 "nbformat": 4,
 "nbformat_minor": 2
}
