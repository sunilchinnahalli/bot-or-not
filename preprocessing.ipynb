{
 "cells": [
  {
   "cell_type": "code",
   "execution_count": 6,
   "metadata": {},
   "outputs": [
    {
     "name": "stdout",
     "output_type": "stream",
     "text": [
      "The autoreload extension is already loaded. To reload it, use:\n",
      "  %reload_ext autoreload\n"
     ]
    }
   ],
   "source": [
    "import pandas as pd\n",
    "import numpy as np\n",
    "import preprocessor as p\n",
    "import emoji\n",
    "import emot\n",
    "import  re\n",
    "\n",
    "\n",
    "%load_ext autoreload\n",
    "%autoreload 2"
   ]
  },
  {
   "cell_type": "code",
   "execution_count": 7,
   "metadata": {},
   "outputs": [
    {
     "name": "stderr",
     "output_type": "stream",
     "text": [
      "C:\\Users\\STUDENT\\Anaconda3\\lib\\site-packages\\IPython\\core\\interactiveshell.py:3020: DtypeWarning: Columns (10) have mixed types. Specify dtype option on import or set low_memory=False.\n",
      "  interactivity=interactivity, compiler=compiler, result=result)\n",
      "C:\\Users\\STUDENT\\Anaconda3\\lib\\site-packages\\IPython\\core\\interactiveshell.py:3020: DtypeWarning: Columns (9,10) have mixed types. Specify dtype option on import or set low_memory=False.\n",
      "  interactivity=interactivity, compiler=compiler, result=result)\n",
      "C:\\Users\\STUDENT\\Anaconda3\\lib\\site-packages\\IPython\\core\\interactiveshell.py:3020: DtypeWarning: Columns (7,10) have mixed types. Specify dtype option on import or set low_memory=False.\n",
      "  interactivity=interactivity, compiler=compiler, result=result)\n",
      "C:\\Users\\STUDENT\\Anaconda3\\lib\\site-packages\\IPython\\core\\interactiveshell.py:3020: DtypeWarning: Columns (0) have mixed types. Specify dtype option on import or set low_memory=False.\n",
      "  interactivity=interactivity, compiler=compiler, result=result)\n"
     ]
    }
   ],
   "source": [
    "#df = pd.read_csv('../collection/data/tweet_rescrape.csv')\n",
    "#bot_accounts = pd.read_csv('social_spambots_1Tw.csv')\n",
    "bot_tweets = pd.concat([pd.read_csv('social_spambots_1Tw.csv'), pd.read_csv('social_spambots_2Tw.csv', encoding = \"ISO-8859-1\"), pd.read_csv('social_spambots_3Tw.csv')]).reset_index(drop=True)\n",
    "clean_tweets = pd.read_csv('geniune_accountsTw.csv')\n",
    "\n",
    "#bot_tweets = df[df['username'].isin(bot_accounts['username'])].reset_index(drop=True)\n",
    "\n",
    "#clean_tweets = df[df['username'].isin(clean_accounts['username'])]\n",
    "\n"
   ]
  },
  {
   "cell_type": "code",
   "execution_count": 8,
   "metadata": {},
   "outputs": [],
   "source": [
    "#bot_tweets= bot_accounts\n",
    "#clean_tweets=clean_accounts\n",
    "\n",
    "bot_tweets['BotOrNot'] = 1\n",
    "clean_tweets['BotOrNot'] = 0\n",
    "\n",
    "combined_df = bot_tweets.append(clean_tweets, ignore_index=True)\n",
    "\n",
    "\n",
    "#new_df=\"hgdjfhdughjkfdgkfcb\""
   ]
  },
  {
   "cell_type": "code",
   "execution_count": 9,
   "metadata": {},
   "outputs": [],
   "source": [
    "#new_df= new_df[new_df['ColumnName'].notnull()]"
   ]
  },
  {
   "cell_type": "code",
   "execution_count": 10,
   "metadata": {},
   "outputs": [],
   "source": [
    "#new_df = combined_df\n",
    "new_df = combined_df.sample(frac=1).reset_index(drop=True)"
   ]
  },
  {
   "cell_type": "code",
   "execution_count": 11,
   "metadata": {},
   "outputs": [],
   "source": [
    "#new_df = combined_df.sample(frac=1).reset_index(drop=True)\n",
    "#new_df['text']=\"hdjkfhgfiojbhvkcjnklbfgjln b\""
   ]
  },
  {
   "cell_type": "code",
   "execution_count": 12,
   "metadata": {},
   "outputs": [],
   "source": [
    "def tokenize_tweet(tweet):    \n",
    "    for word in tweet.split(' '):\n",
    "        if (word.isalnum() and word == word.upper() and word.isdigit() == False and len(word) > 1):\n",
    "            tweet = tweet.replace(word, word + \" <allcaps>\")\n",
    "            \n",
    "    tweet = emoji.demojize(tweet, delimiters=('<', '>'))\n",
    "\n",
    "    #p.set_options(p.OPT.HASHTAG, p.OPT.MENTION, p.OPT.NUMBER, p.OPT.RESERVED,p.OPT.URL)\n",
    "    p.set_options(p.OPT.HASHTAG, p.OPT.MENTION, p.OPT.RESERVED,p.OPT.URL)\n",
    "    #p.set_options()\n",
    "    \n",
    "    tokenized = p.tokenize(tweet)\n",
    "    \n",
    "    res = emot.emoticons(tokenized)     \n",
    "    if 'mean' in res:             \n",
    "        for i in range(len(res['mean'])):\n",
    "            tokenized = tokenized.replace(res['value'][i], \"<\" + res['mean'][i].split(' ')[0] + \">\")\n",
    "    \n",
    "    tokenized = tokenized.lower()\n",
    "    tokenized = tokenized.replace('><', '> <')\n",
    "    tokenized = tokenized.translate(str.maketrans('','',\"!\\\"“'&(”)*+,’-./:;=?[\\\\]^`{|}~\"))\n",
    "    \n",
    "    return tokenized"
   ]
  },
  {
   "cell_type": "code",
   "execution_count": 13,
   "metadata": {},
   "outputs": [],
   "source": [
    "new_df= new_df[new_df['text'].notnull()]\n",
    "new_df['text'] = new_df['text'].apply(lambda x: tokenize_tweet(x))"
   ]
  },
  {
   "cell_type": "code",
   "execution_count": 14,
   "metadata": {},
   "outputs": [],
   "source": [
    "new_df = new_df[['text', 'retweet_count', 'user_id', 'timestamp', 'favorite_count', 'reply_count', 'BotOrNot']]"
   ]
  },
  {
   "cell_type": "code",
   "execution_count": 15,
   "metadata": {},
   "outputs": [],
   "source": [
    "new_df['hashtag_count'] = new_df['text'].apply(lambda x: x.count(\"<hashtag>\"))"
   ]
  },
  {
   "cell_type": "code",
   "execution_count": 16,
   "metadata": {},
   "outputs": [],
   "source": [
    "new_df['mention_count'] = new_df['text'].apply(lambda x: x.count(\"<mention>\"))"
   ]
  },
  {
   "cell_type": "code",
   "execution_count": 17,
   "metadata": {},
   "outputs": [],
   "source": [
    "new_df['url_count'] = new_df['text'].apply(lambda x: x.count(\"<url>\"))"
   ]
  },
  {
   "cell_type": "code",
   "execution_count": 18,
   "metadata": {},
   "outputs": [],
   "source": [
    "new_df.to_csv('new_labeled_tweets1.csv', index=False)"
   ]
  },
  {
   "cell_type": "code",
   "execution_count": 19,
   "metadata": {},
   "outputs": [],
   "source": [
    "contents_new_lab = pd.read_csv('new_labeled_tweets1.csv')\n",
    "#contents_new_lab.head()\n",
    "#contents_new_lab.tail()"
   ]
  },
  {
   "cell_type": "code",
   "execution_count": 20,
   "metadata": {},
   "outputs": [
    {
     "data": {
      "text/html": [
       "<div>\n",
       "<style scoped>\n",
       "    .dataframe tbody tr th:only-of-type {\n",
       "        vertical-align: middle;\n",
       "    }\n",
       "\n",
       "    .dataframe tbody tr th {\n",
       "        vertical-align: top;\n",
       "    }\n",
       "\n",
       "    .dataframe thead th {\n",
       "        text-align: right;\n",
       "    }\n",
       "</style>\n",
       "<table border=\"1\" class=\"dataframe\">\n",
       "  <thead>\n",
       "    <tr style=\"text-align: right;\">\n",
       "      <th></th>\n",
       "      <th>text</th>\n",
       "      <th>retweet_count</th>\n",
       "      <th>user_id</th>\n",
       "      <th>timestamp</th>\n",
       "      <th>favorite_count</th>\n",
       "      <th>reply_count</th>\n",
       "      <th>BotOrNot</th>\n",
       "      <th>hashtag_count</th>\n",
       "      <th>mention_count</th>\n",
       "      <th>url_count</th>\n",
       "    </tr>\n",
       "  </thead>\n",
       "  <tbody>\n",
       "    <tr>\n",
       "      <th>0</th>\n",
       "      <td>in the first place god made idiots that was fo...</td>\n",
       "      <td>0.0</td>\n",
       "      <td>306510948.0</td>\n",
       "      <td>2014-11-01 23:25:31</td>\n",
       "      <td>0.0</td>\n",
       "      <td>0.0</td>\n",
       "      <td>1</td>\n",
       "      <td>0</td>\n",
       "      <td>0</td>\n",
       "      <td>0</td>\n",
       "    </tr>\n",
       "    <tr>\n",
       "      <th>1</th>\n",
       "      <td>$mention$ doubt youre going through oklahoma b...</td>\n",
       "      <td>0.0</td>\n",
       "      <td>236449587.0</td>\n",
       "      <td>2015-04-29 15:47:02</td>\n",
       "      <td>1.0</td>\n",
       "      <td>0.0</td>\n",
       "      <td>0</td>\n",
       "      <td>0</td>\n",
       "      <td>0</td>\n",
       "      <td>0</td>\n",
       "    </tr>\n",
       "    <tr>\n",
       "      <th>2</th>\n",
       "      <td>you live and you learn as long as you learn fr...</td>\n",
       "      <td>0.0</td>\n",
       "      <td>231225050.0</td>\n",
       "      <td>2015-02-17 23:59:33</td>\n",
       "      <td>0.0</td>\n",
       "      <td>0.0</td>\n",
       "      <td>0</td>\n",
       "      <td>0</td>\n",
       "      <td>0</td>\n",
       "      <td>0</td>\n",
       "    </tr>\n",
       "    <tr>\n",
       "      <th>3</th>\n",
       "      <td>read the cool history of mustard $url$</td>\n",
       "      <td>0.0</td>\n",
       "      <td>531161755.0</td>\n",
       "      <td>2014-09-15 01:39:34</td>\n",
       "      <td>0.0</td>\n",
       "      <td>0.0</td>\n",
       "      <td>1</td>\n",
       "      <td>0</td>\n",
       "      <td>0</td>\n",
       "      <td>0</td>\n",
       "    </tr>\n",
       "    <tr>\n",
       "      <th>4</th>\n",
       "      <td>mi ami  no  ah sempre queste risposte ambigue</td>\n",
       "      <td>0.0</td>\n",
       "      <td>545306050.0</td>\n",
       "      <td>2014-09-24 13:58:55</td>\n",
       "      <td>0.0</td>\n",
       "      <td>0.0</td>\n",
       "      <td>1</td>\n",
       "      <td>0</td>\n",
       "      <td>0</td>\n",
       "      <td>0</td>\n",
       "    </tr>\n",
       "  </tbody>\n",
       "</table>\n",
       "</div>"
      ],
      "text/plain": [
       "                                                text  retweet_count  \\\n",
       "0  in the first place god made idiots that was fo...            0.0   \n",
       "1  $mention$ doubt youre going through oklahoma b...            0.0   \n",
       "2  you live and you learn as long as you learn fr...            0.0   \n",
       "3             read the cool history of mustard $url$            0.0   \n",
       "4      mi ami  no  ah sempre queste risposte ambigue            0.0   \n",
       "\n",
       "       user_id            timestamp  favorite_count  reply_count  BotOrNot  \\\n",
       "0  306510948.0  2014-11-01 23:25:31             0.0          0.0         1   \n",
       "1  236449587.0  2015-04-29 15:47:02             1.0          0.0         0   \n",
       "2  231225050.0  2015-02-17 23:59:33             0.0          0.0         0   \n",
       "3  531161755.0  2014-09-15 01:39:34             0.0          0.0         1   \n",
       "4  545306050.0  2014-09-24 13:58:55             0.0          0.0         1   \n",
       "\n",
       "   hashtag_count  mention_count  url_count  \n",
       "0              0              0          0  \n",
       "1              0              0          0  \n",
       "2              0              0          0  \n",
       "3              0              0          0  \n",
       "4              0              0          0  "
      ]
     },
     "execution_count": 20,
     "metadata": {},
     "output_type": "execute_result"
    }
   ],
   "source": [
    "contents_new_lab.head()"
   ]
  },
  {
   "cell_type": "code",
   "execution_count": 21,
   "metadata": {},
   "outputs": [
    {
     "data": {
      "text/html": [
       "<div>\n",
       "<style scoped>\n",
       "    .dataframe tbody tr th:only-of-type {\n",
       "        vertical-align: middle;\n",
       "    }\n",
       "\n",
       "    .dataframe tbody tr th {\n",
       "        vertical-align: top;\n",
       "    }\n",
       "\n",
       "    .dataframe thead th {\n",
       "        text-align: right;\n",
       "    }\n",
       "</style>\n",
       "<table border=\"1\" class=\"dataframe\">\n",
       "  <thead>\n",
       "    <tr style=\"text-align: right;\">\n",
       "      <th></th>\n",
       "      <th>text</th>\n",
       "      <th>retweet_count</th>\n",
       "      <th>user_id</th>\n",
       "      <th>timestamp</th>\n",
       "      <th>favorite_count</th>\n",
       "      <th>reply_count</th>\n",
       "      <th>BotOrNot</th>\n",
       "      <th>hashtag_count</th>\n",
       "      <th>mention_count</th>\n",
       "      <th>url_count</th>\n",
       "    </tr>\n",
       "  </thead>\n",
       "  <tbody>\n",
       "    <tr>\n",
       "      <th>6283503</th>\n",
       "      <td>$mention$ we need to go to los or romas while ...</td>\n",
       "      <td>0.0</td>\n",
       "      <td>2.320292e+09</td>\n",
       "      <td>2015-03-04 08:01:29</td>\n",
       "      <td>0.0</td>\n",
       "      <td>0.0</td>\n",
       "      <td>0</td>\n",
       "      <td>0</td>\n",
       "      <td>0</td>\n",
       "      <td>0</td>\n",
       "    </tr>\n",
       "    <tr>\n",
       "      <th>6283504</th>\n",
       "      <td>$mention$ i will get the mm3d but &lt;allcaps&gt; iw...</td>\n",
       "      <td>0.0</td>\n",
       "      <td>1.588868e+07</td>\n",
       "      <td>2014-11-05 23:44:20</td>\n",
       "      <td>0.0</td>\n",
       "      <td>0.0</td>\n",
       "      <td>0</td>\n",
       "      <td>0</td>\n",
       "      <td>0</td>\n",
       "      <td>0</td>\n",
       "    </tr>\n",
       "    <tr>\n",
       "      <th>6283505</th>\n",
       "      <td>$reserved$ &lt;allcaps&gt; $mention$ gusto talagang ...</td>\n",
       "      <td>2.0</td>\n",
       "      <td>5.491811e+08</td>\n",
       "      <td>2013-10-16 15:32:29</td>\n",
       "      <td>0.0</td>\n",
       "      <td>0.0</td>\n",
       "      <td>0</td>\n",
       "      <td>0</td>\n",
       "      <td>0</td>\n",
       "      <td>0</td>\n",
       "    </tr>\n",
       "    <tr>\n",
       "      <th>6283506</th>\n",
       "      <td>if the romans had been obliged to learn latin ...</td>\n",
       "      <td>0.0</td>\n",
       "      <td>1.699325e+09</td>\n",
       "      <td>2014-09-26 06:05:53</td>\n",
       "      <td>0.0</td>\n",
       "      <td>0.0</td>\n",
       "      <td>1</td>\n",
       "      <td>0</td>\n",
       "      <td>0</td>\n",
       "      <td>0</td>\n",
       "    </tr>\n",
       "    <tr>\n",
       "      <th>6283507</th>\n",
       "      <td>$mention$ من &lt;allcaps&gt; ايفون &lt;allcaps&gt; ٥ موقفي...</td>\n",
       "      <td>0.0</td>\n",
       "      <td>2.081475e+08</td>\n",
       "      <td>2014-11-16 16:16:19</td>\n",
       "      <td>0.0</td>\n",
       "      <td>0.0</td>\n",
       "      <td>0</td>\n",
       "      <td>0</td>\n",
       "      <td>0</td>\n",
       "      <td>0</td>\n",
       "    </tr>\n",
       "  </tbody>\n",
       "</table>\n",
       "</div>"
      ],
      "text/plain": [
       "                                                      text  retweet_count  \\\n",
       "6283503  $mention$ we need to go to los or romas while ...            0.0   \n",
       "6283504  $mention$ i will get the mm3d but <allcaps> iw...            0.0   \n",
       "6283505  $reserved$ <allcaps> $mention$ gusto talagang ...            2.0   \n",
       "6283506  if the romans had been obliged to learn latin ...            0.0   \n",
       "6283507  $mention$ من <allcaps> ايفون <allcaps> ٥ موقفي...            0.0   \n",
       "\n",
       "              user_id            timestamp  favorite_count  reply_count  \\\n",
       "6283503  2.320292e+09  2015-03-04 08:01:29             0.0          0.0   \n",
       "6283504  1.588868e+07  2014-11-05 23:44:20             0.0          0.0   \n",
       "6283505  5.491811e+08  2013-10-16 15:32:29             0.0          0.0   \n",
       "6283506  1.699325e+09  2014-09-26 06:05:53             0.0          0.0   \n",
       "6283507  2.081475e+08  2014-11-16 16:16:19             0.0          0.0   \n",
       "\n",
       "         BotOrNot  hashtag_count  mention_count  url_count  \n",
       "6283503         0              0              0          0  \n",
       "6283504         0              0              0          0  \n",
       "6283505         0              0              0          0  \n",
       "6283506         1              0              0          0  \n",
       "6283507         0              0              0          0  "
      ]
     },
     "execution_count": 21,
     "metadata": {},
     "output_type": "execute_result"
    }
   ],
   "source": [
    "contents_new_lab.tail()"
   ]
  },
  {
   "cell_type": "code",
   "execution_count": null,
   "metadata": {},
   "outputs": [],
   "source": []
  }
 ],
 "metadata": {
  "kernelspec": {
   "display_name": "Python 3",
   "language": "python",
   "name": "python3"
  },
  "language_info": {
   "codemirror_mode": {
    "name": "ipython",
    "version": 3
   },
   "file_extension": ".py",
   "mimetype": "text/x-python",
   "name": "python",
   "nbconvert_exporter": "python",
   "pygments_lexer": "ipython3",
   "version": "3.7.1"
  }
 },
 "nbformat": 4,
 "nbformat_minor": 2
}
